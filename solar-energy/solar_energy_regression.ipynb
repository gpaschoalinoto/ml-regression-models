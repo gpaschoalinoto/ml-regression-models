{
 "cells": [
  {
   "cell_type": "markdown",
   "metadata": {},
   "source": [
    "# Install and Import Dependencies"
   ]
  },
  {
   "cell_type": "code",
   "execution_count": 2,
   "metadata": {},
   "outputs": [],
   "source": [
    "from selenium import webdriver\n",
    "from selenium.webdriver.common.by import By\n",
    "from selenium.webdriver.support.ui import WebDriverWait\n",
    "from selenium.webdriver.support import expected_conditions as EC\n",
    "\n",
    "import time\n",
    "import os\n",
    "import shutil\n",
    "import zipfile\n",
    "\n",
    "import pandas as pd"
   ]
  },
  {
   "cell_type": "markdown",
   "metadata": {},
   "source": [
    "# Load data"
   ]
  },
  {
   "cell_type": "markdown",
   "metadata": {},
   "source": [
    "The dataset for this project will be obtained through web scraping from the Mendeley Data website."
   ]
  },
  {
   "cell_type": "markdown",
   "metadata": {},
   "source": [
    "## Web Crawling settings"
   ]
  },
  {
   "cell_type": "code",
   "execution_count": null,
   "metadata": {},
   "outputs": [
    {
     "name": "stdout",
     "output_type": "stream",
     "text": [
      "Cookies accepted.\n",
      "Click on Download button was successful.\n"
     ]
    }
   ],
   "source": [
    "# Configure Selenium to run\n",
    "options = webdriver.ChromeOptions()\n",
    "options.add_argument(\"--start-maximized\")\n",
    "\n",
    "# Initialize the browser\n",
    "driver = webdriver.Chrome(options=options)\n",
    "\n",
    "# Access Mendeley Data page\n",
    "url = \"https://data.mendeley.com/datasets/hfhwmn8w24/3\"\n",
    "driver.get(url)\n",
    "\n",
    "# Accepting cookies\n",
    "try:\n",
    "    wait = WebDriverWait(driver, 10)  # 10 seconds sleep\n",
    "    accept_cookies = wait.until(EC.element_to_be_clickable((By.ID, \"onetrust-accept-btn-handler\")))\n",
    "    accept_cookies.click()\n",
    "    print(\"Cookies accepted.\")\n",
    "except Exception as e:\n",
    "    print(\"No cookie popup found or error while accepting cookies:\", e)\n",
    "\n",
    "# Waiting for Download button to become available\n",
    "download_button = wait.until(EC.presence_of_element_located((By.ID, \"download-all\")))\n",
    "download_button.click()\n",
    "\n",
    "print(\"Click on Download button was successful.\")\n",
    "\n",
    "# Donwloading dataset\n",
    "time.sleep(5)\n",
    "\n",
    "# Closing the browser\n",
    "driver.quit()"
   ]
  },
  {
   "cell_type": "markdown",
   "metadata": {},
   "source": [
    "## Adjusting dataset directory"
   ]
  },
  {
   "cell_type": "code",
   "execution_count": 4,
   "metadata": {},
   "outputs": [
    {
     "name": "stdout",
     "output_type": "stream",
     "text": [
      "File unzipped and renamed to 'C:\\\\Users\\\\guilh\\\\OneDrive\\\\Documents\\\\GitHub\\\\ml-regression-models\\\\solar-energy\\\\dataset\\data.csv'.\n",
      "Original zip file 'C:\\Users\\guilh\\Downloads\\hfhwmn8w24-3.zip' removed.\n"
     ]
    }
   ],
   "source": [
    "# Define the source and target directories\n",
    "source_folder = os.path.join(os.path.expanduser(\"~\"), \"Downloads\")\n",
    "target_folder = r\"C:\\\\Users\\\\guilh\\\\OneDrive\\\\Documents\\\\GitHub\\\\ml-regression-models\\\\solar-energy\\\\dataset\"\n",
    "target_file_name = \"data.csv\"\n",
    "\n",
    "# Find the downloaded zip file by its original name\n",
    "original_file_name = \"hfhwmn8w24-3.zip\"\n",
    "source_file_path = os.path.join(source_folder, original_file_name)\n",
    "unzipped_file_name = \"Pasion et al dataset.csv\"\n",
    "\n",
    "# Check if the source zip file exists\n",
    "if os.path.exists(source_file_path):\n",
    "    # Ensure the target directory exists\n",
    "    os.makedirs(target_folder, exist_ok=True)\n",
    "    \n",
    "    # Unzip the file\n",
    "    with zipfile.ZipFile(source_file_path, 'r') as zip_ref:\n",
    "        zip_ref.extractall(target_folder)\n",
    "\n",
    "    # Rename the extracted file to the target name\n",
    "    extracted_file_path = os.path.join(target_folder, unzipped_file_name)\n",
    "    final_file_path = os.path.join(target_folder, target_file_name)\n",
    "    if os.path.exists(extracted_file_path):\n",
    "        os.rename(extracted_file_path, final_file_path)\n",
    "        print(f\"File unzipped and renamed to '{final_file_path}'.\")\n",
    "    else:\n",
    "        print(f\"Extracted file '{unzipped_file_name}' not found in the target folder.\")\n",
    "\n",
    "    # Optionally remove the original zip file\n",
    "    os.remove(source_file_path)\n",
    "    print(f\"Original zip file '{source_file_path}' removed.\")\n",
    "else:\n",
    "    print(f\"Zip file '{original_file_name}' not found in the Downloads folder.\")"
   ]
  },
  {
   "cell_type": "code",
   "execution_count": 5,
   "metadata": {},
   "outputs": [
    {
     "data": {
      "text/plain": [
       "(21045, 17)"
      ]
     },
     "execution_count": 5,
     "metadata": {},
     "output_type": "execute_result"
    }
   ],
   "source": [
    "df = pd.read_csv('../solar-energy/dataset/data.csv', sep=',')\n",
    "df.shape"
   ]
  },
  {
   "cell_type": "markdown",
   "metadata": {},
   "source": [
    "# Descriptive Analysis"
   ]
  },
  {
   "cell_type": "code",
   "execution_count": 7,
   "metadata": {},
   "outputs": [
    {
     "data": {
      "text/html": [
       "<div>\n",
       "<style scoped>\n",
       "    .dataframe tbody tr th:only-of-type {\n",
       "        vertical-align: middle;\n",
       "    }\n",
       "\n",
       "    .dataframe tbody tr th {\n",
       "        vertical-align: top;\n",
       "    }\n",
       "\n",
       "    .dataframe thead th {\n",
       "        text-align: right;\n",
       "    }\n",
       "</style>\n",
       "<table border=\"1\" class=\"dataframe\">\n",
       "  <thead>\n",
       "    <tr style=\"text-align: right;\">\n",
       "      <th></th>\n",
       "      <th>Location</th>\n",
       "      <th>Date</th>\n",
       "      <th>Time</th>\n",
       "      <th>Latitude</th>\n",
       "      <th>Longitude</th>\n",
       "      <th>Altitude</th>\n",
       "      <th>YRMODAHRMI</th>\n",
       "      <th>Month</th>\n",
       "      <th>Hour</th>\n",
       "      <th>Season</th>\n",
       "      <th>Humidity</th>\n",
       "      <th>AmbientTemp</th>\n",
       "      <th>PolyPwr</th>\n",
       "      <th>Wind.Speed</th>\n",
       "      <th>Visibility</th>\n",
       "      <th>Pressure</th>\n",
       "      <th>Cloud.Ceiling</th>\n",
       "    </tr>\n",
       "  </thead>\n",
       "  <tbody>\n",
       "    <tr>\n",
       "      <th>0</th>\n",
       "      <td>Camp Murray</td>\n",
       "      <td>20171203</td>\n",
       "      <td>1145</td>\n",
       "      <td>47.11</td>\n",
       "      <td>-122.57</td>\n",
       "      <td>84</td>\n",
       "      <td>2.017120e+11</td>\n",
       "      <td>12</td>\n",
       "      <td>11</td>\n",
       "      <td>Winter</td>\n",
       "      <td>81.71997</td>\n",
       "      <td>12.86919</td>\n",
       "      <td>2.42769</td>\n",
       "      <td>5</td>\n",
       "      <td>10.0</td>\n",
       "      <td>1010.6</td>\n",
       "      <td>722</td>\n",
       "    </tr>\n",
       "    <tr>\n",
       "      <th>1</th>\n",
       "      <td>Camp Murray</td>\n",
       "      <td>20171203</td>\n",
       "      <td>1315</td>\n",
       "      <td>47.11</td>\n",
       "      <td>-122.57</td>\n",
       "      <td>84</td>\n",
       "      <td>2.017120e+11</td>\n",
       "      <td>12</td>\n",
       "      <td>13</td>\n",
       "      <td>Winter</td>\n",
       "      <td>96.64917</td>\n",
       "      <td>9.66415</td>\n",
       "      <td>2.46273</td>\n",
       "      <td>0</td>\n",
       "      <td>10.0</td>\n",
       "      <td>1011.3</td>\n",
       "      <td>23</td>\n",
       "    </tr>\n",
       "    <tr>\n",
       "      <th>2</th>\n",
       "      <td>Camp Murray</td>\n",
       "      <td>20171203</td>\n",
       "      <td>1330</td>\n",
       "      <td>47.11</td>\n",
       "      <td>-122.57</td>\n",
       "      <td>84</td>\n",
       "      <td>2.017120e+11</td>\n",
       "      <td>12</td>\n",
       "      <td>13</td>\n",
       "      <td>Winter</td>\n",
       "      <td>93.61572</td>\n",
       "      <td>15.44983</td>\n",
       "      <td>4.46836</td>\n",
       "      <td>5</td>\n",
       "      <td>10.0</td>\n",
       "      <td>1011.6</td>\n",
       "      <td>32</td>\n",
       "    </tr>\n",
       "    <tr>\n",
       "      <th>3</th>\n",
       "      <td>Camp Murray</td>\n",
       "      <td>20171204</td>\n",
       "      <td>1230</td>\n",
       "      <td>47.11</td>\n",
       "      <td>-122.57</td>\n",
       "      <td>84</td>\n",
       "      <td>2.017120e+11</td>\n",
       "      <td>12</td>\n",
       "      <td>12</td>\n",
       "      <td>Winter</td>\n",
       "      <td>77.21558</td>\n",
       "      <td>10.36659</td>\n",
       "      <td>1.65364</td>\n",
       "      <td>5</td>\n",
       "      <td>2.0</td>\n",
       "      <td>1024.4</td>\n",
       "      <td>6</td>\n",
       "    </tr>\n",
       "    <tr>\n",
       "      <th>4</th>\n",
       "      <td>Camp Murray</td>\n",
       "      <td>20171204</td>\n",
       "      <td>1415</td>\n",
       "      <td>47.11</td>\n",
       "      <td>-122.57</td>\n",
       "      <td>84</td>\n",
       "      <td>2.017120e+11</td>\n",
       "      <td>12</td>\n",
       "      <td>14</td>\n",
       "      <td>Winter</td>\n",
       "      <td>54.80347</td>\n",
       "      <td>16.85471</td>\n",
       "      <td>6.57939</td>\n",
       "      <td>3</td>\n",
       "      <td>3.0</td>\n",
       "      <td>1023.7</td>\n",
       "      <td>9</td>\n",
       "    </tr>\n",
       "  </tbody>\n",
       "</table>\n",
       "</div>"
      ],
      "text/plain": [
       "      Location      Date  Time  Latitude  Longitude  Altitude    YRMODAHRMI  \\\n",
       "0  Camp Murray  20171203  1145     47.11    -122.57        84  2.017120e+11   \n",
       "1  Camp Murray  20171203  1315     47.11    -122.57        84  2.017120e+11   \n",
       "2  Camp Murray  20171203  1330     47.11    -122.57        84  2.017120e+11   \n",
       "3  Camp Murray  20171204  1230     47.11    -122.57        84  2.017120e+11   \n",
       "4  Camp Murray  20171204  1415     47.11    -122.57        84  2.017120e+11   \n",
       "\n",
       "   Month  Hour  Season  Humidity  AmbientTemp  PolyPwr  Wind.Speed  \\\n",
       "0     12    11  Winter  81.71997     12.86919  2.42769           5   \n",
       "1     12    13  Winter  96.64917      9.66415  2.46273           0   \n",
       "2     12    13  Winter  93.61572     15.44983  4.46836           5   \n",
       "3     12    12  Winter  77.21558     10.36659  1.65364           5   \n",
       "4     12    14  Winter  54.80347     16.85471  6.57939           3   \n",
       "\n",
       "   Visibility  Pressure  Cloud.Ceiling  \n",
       "0        10.0    1010.6            722  \n",
       "1        10.0    1011.3             23  \n",
       "2        10.0    1011.6             32  \n",
       "3         2.0    1024.4              6  \n",
       "4         3.0    1023.7              9  "
      ]
     },
     "execution_count": 7,
     "metadata": {},
     "output_type": "execute_result"
    }
   ],
   "source": [
    "df.head()"
   ]
  }
 ],
 "metadata": {
  "kernelspec": {
   "display_name": "Python 3",
   "language": "python",
   "name": "python3"
  },
  "language_info": {
   "codemirror_mode": {
    "name": "ipython",
    "version": 3
   },
   "file_extension": ".py",
   "mimetype": "text/x-python",
   "name": "python",
   "nbconvert_exporter": "python",
   "pygments_lexer": "ipython3",
   "version": "3.10.6"
  }
 },
 "nbformat": 4,
 "nbformat_minor": 2
}
